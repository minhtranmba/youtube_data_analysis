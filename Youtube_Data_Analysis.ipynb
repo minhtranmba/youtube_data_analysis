{
 "cells": [
  {
   "cell_type": "markdown",
   "id": "29b02dd5",
   "metadata": {},
   "source": [
    "# Youtube Data Analysis"
   ]
  },
  {
   "cell_type": "markdown",
   "id": "8cb91509",
   "metadata": {},
   "source": [
    "## I. Project Description\n",
    "To understand what people watch the most on Youtube in the US, I gathered video's data through [Youtube API v3](https://developers.google.com/youtube/v3/docs). The results returned by Search query via Youtube API contain approximately 200 records for each year from 2018 to 2022. Records are ordered by the number of views in descending order, telling us the most watched videos on Youtube. The dataset includes information below:\n",
    "<ul>\n",
    "    <li>Video Title</li>\n",
    "    <li>Video ID</li>\n",
    "    <li>Publish Date</li>\n",
    "    <li>Channel Title</li>\n",
    "    <li>Channel ID</li>\n",
    "    <li>Video Category</li>\n",
    "    <li>Video Duration</li>\n",
    "    <li>Number of Views</li>\n",
    "    <li>Number of Likes</li>\n",
    "    <li>Number of Comments</li>\n",
    "</ul>\n",
    "Through this dataset, I will perform analyses to get a deeper understanding of:\n",
    "<ol>\n",
    "    <li>What are the most popular video categories?</li>\n",
    "    <li>Does the viewer's preference change before and during Covid (considering we are still in Covid time)?</li>\n",
    "    <li>What is viewer's preference for video's length?</li>\n",
    "    <li>What are the best days in month to publish a video?</li>\n",
    "    <li>Is there a linear relationship between number of views and likes/comments?</li>\n",
    "</ol>"
   ]
  },
  {
   "cell_type": "markdown",
   "id": "aa386b74",
   "metadata": {},
   "source": [
    "## II. Data Analysis\n",
    "### Project Functions\n",
    "To answer the major questions above, I will use below modules to support my analysis:\n",
    "<ul>\n",
    "    <li><b>numpy</b> and <b>pandas</b>: to handle data cleaning and calculation</li>\n",
    "    <li><b>matplotlib</b> and <b>seaborn</b>: to graph data</li>\n",
    "    <li><b>isodate</b>: to handle conversion of video duration to seconds</li>\n",
    "    <li><b>sklearn</b>: to run linear regression</li>\n",
    "</ul>"
   ]
  },
  {
   "cell_type": "code",
   "execution_count": 1,
   "id": "4711a0dc",
   "metadata": {},
   "outputs": [
    {
     "name": "stdout",
     "output_type": "stream",
     "text": [
      "Requirement already satisfied: isodate in c:\\users\\nhat minh\\anaconda3\\lib\\site-packages (0.6.1)\n",
      "Requirement already satisfied: six in c:\\users\\nhat minh\\anaconda3\\lib\\site-packages (from isodate) (1.16.0)\n",
      "Note: you may need to restart the kernel to use updated packages.\n"
     ]
    }
   ],
   "source": [
    "pip install isodate"
   ]
  },
  {
   "cell_type": "code",
   "execution_count": 2,
   "id": "48dd4925",
   "metadata": {},
   "outputs": [],
   "source": [
    "import isodate\n",
    "import numpy as np\n",
    "import pandas as pd\n",
    "import matplotlib\n",
    "from matplotlib import pyplot as plt\n",
    "import seaborn as sns\n",
    "from sklearn import linear_model, datasets\n",
    "from sklearn.linear_model import LinearRegression\n",
    "pd.options.mode.chained_assignment = None"
   ]
  },
  {
   "cell_type": "code",
   "execution_count": 3,
   "id": "c91684bd",
   "metadata": {},
   "outputs": [],
   "source": [
    "def duration_convert(duration):\n",
    "    dur = isodate.parse_duration(duration)\n",
    "    return dur.total_seconds()"
   ]
  },
  {
   "cell_type": "markdown",
   "id": "ac2889d7",
   "metadata": {},
   "source": [
    "### Loading Video Data\n",
    "There are two files I exported as a result of requesting to Youtube API: `Video_Categories.csv` and `Youtube_video_data.csv`."
   ]
  },
  {
   "cell_type": "code",
   "execution_count": 4,
   "id": "6c7ed55d",
   "metadata": {},
   "outputs": [],
   "source": [
    "df = pd.read_csv(\"Youtube_video_data.csv\")\n",
    "df_cat = pd.read_csv(\"Video_Categories.csv\")"
   ]
  },
  {
   "cell_type": "code",
   "execution_count": 5,
   "id": "c5c7048a",
   "metadata": {},
   "outputs": [
    {
     "data": {
      "text/html": [
       "<div>\n",
       "<style scoped>\n",
       "    .dataframe tbody tr th:only-of-type {\n",
       "        vertical-align: middle;\n",
       "    }\n",
       "\n",
       "    .dataframe tbody tr th {\n",
       "        vertical-align: top;\n",
       "    }\n",
       "\n",
       "    .dataframe thead th {\n",
       "        text-align: right;\n",
       "    }\n",
       "</style>\n",
       "<table border=\"1\" class=\"dataframe\">\n",
       "  <thead>\n",
       "    <tr style=\"text-align: right;\">\n",
       "      <th></th>\n",
       "      <th>vid_title</th>\n",
       "      <th>vid_id</th>\n",
       "      <th>publish_date</th>\n",
       "      <th>channel_title</th>\n",
       "      <th>channel_id</th>\n",
       "      <th>category_id</th>\n",
       "      <th>duration</th>\n",
       "      <th>views</th>\n",
       "      <th>likes</th>\n",
       "      <th>comments</th>\n",
       "    </tr>\n",
       "  </thead>\n",
       "  <tbody>\n",
       "    <tr>\n",
       "      <th>0</th>\n",
       "      <td>NASA Live: Official Stream of NASA TV</td>\n",
       "      <td>21X5lGlDOfg</td>\n",
       "      <td>2018-12-28T18:40:15Z</td>\n",
       "      <td>NASA</td>\n",
       "      <td>UCLA_DiR1FfKNvjuUpBHmylQ</td>\n",
       "      <td>28</td>\n",
       "      <td>P0D</td>\n",
       "      <td>136274799</td>\n",
       "      <td>2094730</td>\n",
       "      <td>0</td>\n",
       "    </tr>\n",
       "    <tr>\n",
       "      <th>1</th>\n",
       "      <td>Pocoyó -   Porquera en la tubería (S04E05)</td>\n",
       "      <td>DTyy5Hf46Fs</td>\n",
       "      <td>2018-06-17T11:41:25Z</td>\n",
       "      <td>Pocoyo Series</td>\n",
       "      <td>UCzKG_Nq4SAWE-VBEuHo3jYA</td>\n",
       "      <td>1</td>\n",
       "      <td>PT7M9S</td>\n",
       "      <td>118073485</td>\n",
       "      <td>504562</td>\n",
       "      <td>0</td>\n",
       "    </tr>\n",
       "    <tr>\n",
       "      <th>2</th>\n",
       "      <td>Rap Live Radio 24/7 | Hip-Hop &amp; Popular Rap Mu...</td>\n",
       "      <td>05689ErDUdM</td>\n",
       "      <td>2018-11-30T21:26:38Z</td>\n",
       "      <td>UPROXX Music</td>\n",
       "      <td>UCI2HI_aQ_S3v4vfDQgNtK1g</td>\n",
       "      <td>10</td>\n",
       "      <td>P0D</td>\n",
       "      <td>28581927</td>\n",
       "      <td>337831</td>\n",
       "      <td>7</td>\n",
       "    </tr>\n",
       "  </tbody>\n",
       "</table>\n",
       "</div>"
      ],
      "text/plain": [
       "                                           vid_title       vid_id  \\\n",
       "0              NASA Live: Official Stream of NASA TV  21X5lGlDOfg   \n",
       "1         Pocoyó -   Porquera en la tubería (S04E05)  DTyy5Hf46Fs   \n",
       "2  Rap Live Radio 24/7 | Hip-Hop & Popular Rap Mu...  05689ErDUdM   \n",
       "\n",
       "           publish_date  channel_title                channel_id  category_id  \\\n",
       "0  2018-12-28T18:40:15Z           NASA  UCLA_DiR1FfKNvjuUpBHmylQ           28   \n",
       "1  2018-06-17T11:41:25Z  Pocoyo Series  UCzKG_Nq4SAWE-VBEuHo3jYA            1   \n",
       "2  2018-11-30T21:26:38Z   UPROXX Music  UCI2HI_aQ_S3v4vfDQgNtK1g           10   \n",
       "\n",
       "  duration      views    likes comments  \n",
       "0      P0D  136274799  2094730        0  \n",
       "1   PT7M9S  118073485   504562        0  \n",
       "2      P0D   28581927   337831        7  "
      ]
     },
     "execution_count": 5,
     "metadata": {},
     "output_type": "execute_result"
    }
   ],
   "source": [
    "df.head(3)"
   ]
  },
  {
   "cell_type": "code",
   "execution_count": 6,
   "id": "718d5466",
   "metadata": {},
   "outputs": [
    {
     "data": {
      "text/html": [
       "<div>\n",
       "<style scoped>\n",
       "    .dataframe tbody tr th:only-of-type {\n",
       "        vertical-align: middle;\n",
       "    }\n",
       "\n",
       "    .dataframe tbody tr th {\n",
       "        vertical-align: top;\n",
       "    }\n",
       "\n",
       "    .dataframe thead th {\n",
       "        text-align: right;\n",
       "    }\n",
       "</style>\n",
       "<table border=\"1\" class=\"dataframe\">\n",
       "  <thead>\n",
       "    <tr style=\"text-align: right;\">\n",
       "      <th></th>\n",
       "      <th>category_id</th>\n",
       "      <th>category_name</th>\n",
       "    </tr>\n",
       "  </thead>\n",
       "  <tbody>\n",
       "    <tr>\n",
       "      <th>0</th>\n",
       "      <td>1</td>\n",
       "      <td>Film &amp; Animation</td>\n",
       "    </tr>\n",
       "    <tr>\n",
       "      <th>1</th>\n",
       "      <td>2</td>\n",
       "      <td>Autos &amp; Vehicles</td>\n",
       "    </tr>\n",
       "    <tr>\n",
       "      <th>2</th>\n",
       "      <td>10</td>\n",
       "      <td>Music</td>\n",
       "    </tr>\n",
       "  </tbody>\n",
       "</table>\n",
       "</div>"
      ],
      "text/plain": [
       "   category_id     category_name\n",
       "0            1  Film & Animation\n",
       "1            2  Autos & Vehicles\n",
       "2           10             Music"
      ]
     },
     "execution_count": 6,
     "metadata": {},
     "output_type": "execute_result"
    }
   ],
   "source": [
    "df_cat.head(3)"
   ]
  },
  {
   "cell_type": "markdown",
   "id": "9d582e91",
   "metadata": {},
   "source": [
    "### Cleaning Data\n",
    "#### 1. The dataset contains some duplicates and we will need to remove them from our data before analyzing. "
   ]
  },
  {
   "cell_type": "code",
   "execution_count": 7,
   "id": "b32c9f5e",
   "metadata": {},
   "outputs": [],
   "source": [
    "df = df.drop_duplicates('vid_id')"
   ]
  },
  {
   "cell_type": "markdown",
   "id": "3d8ebb03",
   "metadata": {},
   "source": [
    "#### 2. The data format of `duration` and `publish_date` is inappropriate for our analysis. We will need to:\n",
    "<ul>\n",
    "    <li>convert duration to seconds</li>\n",
    "    <li>extract year, month, day from publish_date</li>\n",
    "</ul>"
   ]
  },
  {
   "cell_type": "markdown",
   "id": "f6793570",
   "metadata": {},
   "source": [
    "##### 2.1 Let's convert `duration` to seconds first:"
   ]
  },
  {
   "cell_type": "code",
   "execution_count": 8,
   "id": "0d193502",
   "metadata": {},
   "outputs": [],
   "source": [
    "for i in range(len(df)):\n",
    "    df['duration'].iloc[i] = duration_convert(df['duration'].astype(str).iloc[i])"
   ]
  },
  {
   "cell_type": "markdown",
   "id": "4065f0a8",
   "metadata": {},
   "source": [
    "If a video is live, its duration will be 0. Let's check if we have any of them in our dataset:"
   ]
  },
  {
   "cell_type": "code",
   "execution_count": 9,
   "id": "a54f53b3",
   "metadata": {},
   "outputs": [
    {
     "data": {
      "text/plain": [
       "True"
      ]
     },
     "execution_count": 9,
     "metadata": {},
     "output_type": "execute_result"
    }
   ],
   "source": [
    "0 in df['duration']"
   ]
  },
  {
   "cell_type": "markdown",
   "id": "9bbce7ec",
   "metadata": {},
   "source": [
    "Identifying live videos is necessary for our analysis of video's length, as we don't want to average 0-duration videos with others. Let's add a new column `live_status` to our data frame:"
   ]
  },
  {
   "cell_type": "code",
   "execution_count": 10,
   "id": "d2238ceb",
   "metadata": {},
   "outputs": [],
   "source": [
    "df['live_status'] = None\n",
    "for i in range(len(df)):\n",
    "    if df['duration'].iloc[i] == 0:\n",
    "        df['live_status'].iloc[i] = 'Yes'\n",
    "    else:\n",
    "        df['live_status'].iloc[i] = 'No'"
   ]
  },
  {
   "cell_type": "markdown",
   "id": "bc1981fd",
   "metadata": {},
   "source": [
    "##### 2.2 Now, extract year, month, and day from `publish_date`. I will add new columns to the data frame as below:"
   ]
  },
  {
   "cell_type": "code",
   "execution_count": 11,
   "id": "ece39746",
   "metadata": {},
   "outputs": [],
   "source": [
    "df['publish_date'] = pd.to_datetime(df['publish_date'])\n",
    "df['publish_year'] = df['publish_date'].dt.year\n",
    "df['publish_month'] = df['publish_date'].dt.month\n",
    "df['publish_day'] = df['publish_date'].dt.day"
   ]
  },
  {
   "cell_type": "markdown",
   "id": "18bf6616",
   "metadata": {},
   "source": [
    "#### 3. We have Category IDs in `df` data frame but their respective names are in another data frame, `df_cat`. We will need to map them up:"
   ]
  },
  {
   "cell_type": "code",
   "execution_count": 12,
   "id": "439e7462",
   "metadata": {},
   "outputs": [],
   "source": [
    "df['category_name'] = None\n",
    "for i in range(len(df)):\n",
    "    cat_id = df['category_id'].iloc[i]\n",
    "    for index in range(len(df_cat)):\n",
    "        if cat_id == df_cat['category_id'].iloc[index]:         \n",
    "            df['category_name'].iloc[i] = df_cat['category_name'].iloc[index]"
   ]
  },
  {
   "cell_type": "markdown",
   "id": "e7dd1bf0",
   "metadata": {},
   "source": [
    "### Data Analysis"
   ]
  },
  {
   "cell_type": "markdown",
   "id": "89881d3b",
   "metadata": {},
   "source": [
    "#### Question 1: What are the most popular video categories?\n",
    "##### First Approach:\n",
    "Since our dataset contains the most watched videos list, if a category presents more often than another in our list, it implies that category is more popular. Let's count how many times each category presents in our list (2018-2022):"
   ]
  },
  {
   "cell_type": "code",
   "execution_count": 13,
   "id": "0c16c436",
   "metadata": {},
   "outputs": [
    {
     "data": {
      "text/html": [
       "<div>\n",
       "<style scoped>\n",
       "    .dataframe tbody tr th:only-of-type {\n",
       "        vertical-align: middle;\n",
       "    }\n",
       "\n",
       "    .dataframe tbody tr th {\n",
       "        vertical-align: top;\n",
       "    }\n",
       "\n",
       "    .dataframe thead th {\n",
       "        text-align: right;\n",
       "    }\n",
       "</style>\n",
       "<table border=\"1\" class=\"dataframe\">\n",
       "  <thead>\n",
       "    <tr style=\"text-align: right;\">\n",
       "      <th></th>\n",
       "      <th>number_of_videos</th>\n",
       "    </tr>\n",
       "    <tr>\n",
       "      <th>category_name</th>\n",
       "      <th></th>\n",
       "    </tr>\n",
       "  </thead>\n",
       "  <tbody>\n",
       "    <tr>\n",
       "      <th>Shows</th>\n",
       "      <td>189</td>\n",
       "    </tr>\n",
       "    <tr>\n",
       "      <th>Gaming</th>\n",
       "      <td>161</td>\n",
       "    </tr>\n",
       "    <tr>\n",
       "      <th>Entertainment</th>\n",
       "      <td>97</td>\n",
       "    </tr>\n",
       "    <tr>\n",
       "      <th>News &amp; Politics</th>\n",
       "      <td>92</td>\n",
       "    </tr>\n",
       "    <tr>\n",
       "      <th>Music</th>\n",
       "      <td>82</td>\n",
       "    </tr>\n",
       "  </tbody>\n",
       "</table>\n",
       "</div>"
      ],
      "text/plain": [
       "                 number_of_videos\n",
       "category_name                    \n",
       "Shows                         189\n",
       "Gaming                        161\n",
       "Entertainment                  97\n",
       "News & Politics                92\n",
       "Music                          82"
      ]
     },
     "execution_count": 13,
     "metadata": {},
     "output_type": "execute_result"
    }
   ],
   "source": [
    "pop_cat = df.groupby('category_name')['vid_id'].count()\n",
    "pop_cat = pop_cat.to_frame().reset_index()\n",
    "pop_cat = pop_cat.set_index('category_name')\n",
    "pop_cat = pop_cat.rename(columns={'vid_id':'number_of_videos'})\n",
    "pop_cat.sort_values(by = 'number_of_videos',ascending = False).head(5)"
   ]
  },
  {
   "cell_type": "markdown",
   "id": "cae422c2",
   "metadata": {},
   "source": [
    "Top 5 most popular categories over the past 5 years are:\n",
    "<ol>\n",
    "    <li>Shows</li>\n",
    "    <li>Gaming</li>\n",
    "    <li>Entertainment</li>\n",
    "    <li>News & Politics</li>\n",
    "    <li>Music</li>\n",
    "</ol>"
   ]
  },
  {
   "cell_type": "markdown",
   "id": "6c2db0b4",
   "metadata": {},
   "source": [
    "##### Second Approach:\n",
    "But there is an issue with the 1st approach. A higher number of videos doesn't mean that category has a higher views than another. And number of views is also an indicator of popularity. But we can't rely on total views per category to evaluate because our list is limited and not a full list. Therefore, given the limit of our dataset, a more accurate approach is to take into account both indicators: <b><i>views</i></b> and <b><i>number of videos</i></b>. <b>Average views per video</b> can be a more accurate indicator as it reflects both views and number of videos."
   ]
  },
  {
   "cell_type": "markdown",
   "id": "ca2298bf",
   "metadata": {},
   "source": [
    "However, a part of our dataset doesn't have information about views, as those videos are marked private and available to only paid users. Let's temporarily exclude those private videos to calculate <b>Average views per video</b>. "
   ]
  },
  {
   "cell_type": "code",
   "execution_count": 14,
   "id": "b9402e54",
   "metadata": {},
   "outputs": [],
   "source": [
    "df_1 = df[df['views'] != 'Private']"
   ]
  },
  {
   "cell_type": "markdown",
   "id": "9f7e3851",
   "metadata": {},
   "source": [
    "Calculate views (millions) grouped by video categories:"
   ]
  },
  {
   "cell_type": "code",
   "execution_count": 15,
   "id": "774d9fa0",
   "metadata": {},
   "outputs": [],
   "source": [
    "df_1['views'] = df_1['views'].astype(int)/1000000\n",
    "views_by_cat = df_1.groupby('category_name')['views'].sum()\n",
    "views_by_cat = views_by_cat.to_frame().reset_index()\n",
    "views_by_cat = views_by_cat.set_index('category_name')"
   ]
  },
  {
   "cell_type": "markdown",
   "id": "901ac818",
   "metadata": {},
   "source": [
    "Calculate number of videos by category after excluding private videos:"
   ]
  },
  {
   "cell_type": "code",
   "execution_count": 16,
   "id": "6cb10bbd",
   "metadata": {},
   "outputs": [],
   "source": [
    "pop_cat_1 = df_1.groupby('category_name')['vid_id'].count()\n",
    "pop_cat_1 = pop_cat_1.to_frame().reset_index()\n",
    "pop_cat_1 = pop_cat_1.set_index('category_name')\n",
    "pop_cat_1 = pop_cat_1.rename(columns={'vid_id':'number_of_videos'})"
   ]
  },
  {
   "cell_type": "markdown",
   "id": "5dad939e",
   "metadata": {},
   "source": [
    "Calculate views per video, grouped by video categories:"
   ]
  },
  {
   "cell_type": "code",
   "execution_count": 17,
   "id": "9e14c796",
   "metadata": {},
   "outputs": [],
   "source": [
    "views_per_vid = views_by_cat['views'].div(pop_cat_1['number_of_videos'])\n",
    "views_per_vid = views_per_vid.to_frame().reset_index()\n",
    "views_per_vid = views_per_vid.rename(columns={0:'average_views_per_vid'})\n",
    "views_per_vid = views_per_vid.sort_values('average_views_per_vid', ascending = False)"
   ]
  },
  {
   "cell_type": "code",
   "execution_count": 18,
   "id": "3718c0ad",
   "metadata": {},
   "outputs": [
    {
     "data": {
      "image/png": "[encoded data removed]",
      "text/plain": [
       "<Figure size 1440x504 with 1 Axes>"
      ]
     },
     "metadata": {
      "needs_background": "light"
     },
     "output_type": "display_data"
    }
   ],
   "source": [
    "plt.figure(figsize =(20, 7))\n",
    "plt.xticks(rotation=45)\n",
    "ax = sns.barplot(x='category_name', y='average_views_per_vid', data=views_per_vid)\n",
    "ax.set(xlabel=None)\n",
    "ax.set_ylabel(\"Average Views per video (Millions)\");\n",
    "ax.set_title(\"Graph 1. Views per video by Categories over 5 years\");"
   ]
  },
  {
   "cell_type": "markdown",
   "id": "685f3b2c",
   "metadata": {},
   "source": [
    "This graph shows that Top 5 categories which have the most views per video are:\n",
    "<ol>\n",
    "    <li>News & Politics</li>\n",
    "    <li>Science & Technology</li>\n",
    "    <li>Pets & Animals</li>\n",
    "    <li>Nonprofits & Activism</li>\n",
    "    <li>Film & Animation</li>\n",
    "</ol>"
   ]
  },
  {
   "cell_type": "markdown",
   "id": "e4241d04",
   "metadata": {},
   "source": [
    "Only `News & Politics` remains in the Top 5. `Music` falls to rank 6th but has quite close views to `Film & Animation`, which is ranked 5. Meanwhile, `Gaming`, and `Entertainment` rank much lower than in the 1st approach, and `Shows` even is out of the list. The cause of this drastic change may be that we excluded private videos which belong to those categories. Let's check the gaps before and after excluding private videos:"
   ]
  },
  {
   "cell_type": "code",
   "execution_count": 19,
   "id": "0b7cd6e4",
   "metadata": {},
   "outputs": [
    {
     "data": {
      "text/html": [
       "<div>\n",
       "<style scoped>\n",
       "    .dataframe tbody tr th:only-of-type {\n",
       "        vertical-align: middle;\n",
       "    }\n",
       "\n",
       "    .dataframe tbody tr th {\n",
       "        vertical-align: top;\n",
       "    }\n",
       "\n",
       "    .dataframe thead th {\n",
       "        text-align: right;\n",
       "    }\n",
       "</style>\n",
       "<table border=\"1\" class=\"dataframe\">\n",
       "  <thead>\n",
       "    <tr style=\"text-align: right;\">\n",
       "      <th></th>\n",
       "      <th>no_vid_diff</th>\n",
       "    </tr>\n",
       "    <tr>\n",
       "      <th>category_name</th>\n",
       "      <th></th>\n",
       "    </tr>\n",
       "  </thead>\n",
       "  <tbody>\n",
       "    <tr>\n",
       "      <th>Shows</th>\n",
       "      <td>189.0</td>\n",
       "    </tr>\n",
       "    <tr>\n",
       "      <th>Movies</th>\n",
       "      <td>39.0</td>\n",
       "    </tr>\n",
       "    <tr>\n",
       "      <th>Entertainment</th>\n",
       "      <td>1.0</td>\n",
       "    </tr>\n",
       "    <tr>\n",
       "      <th>Music</th>\n",
       "      <td>1.0</td>\n",
       "    </tr>\n",
       "  </tbody>\n",
       "</table>\n",
       "</div>"
      ],
      "text/plain": [
       "               no_vid_diff\n",
       "category_name             \n",
       "Shows                189.0\n",
       "Movies                39.0\n",
       "Entertainment          1.0\n",
       "Music                  1.0"
      ]
     },
     "execution_count": 19,
     "metadata": {},
     "output_type": "execute_result"
    }
   ],
   "source": [
    "pop_cat_diff = pop_cat.subtract(pop_cat_1, fill_value = 0)\n",
    "pop_cat_diff = pop_cat_diff.rename(columns={'number_of_videos':'no_vid_diff'})\n",
    "pop_cat_diff[pop_cat_diff['no_vid_diff'] != 0].sort_values('no_vid_diff', ascending = False)"
   ]
  },
  {
   "cell_type": "markdown",
   "id": "8fd75c5d",
   "metadata": {},
   "source": [
    "Clearly, we excluded all `Shows` videos in our calculation, and that's why this category falls to the lowest rank. However, we are still unsure if we can trust the graph 1. Let's dive deeper into each year performance. "
   ]
  },
  {
   "cell_type": "markdown",
   "id": "1bd7bd9c",
   "metadata": {},
   "source": [
    "###### How did top 3 change year over year? \n",
    "Let's count the number of videos of each category per year, excluding private videos:"
   ]
  },
  {
   "cell_type": "code",
   "execution_count": 20,
   "id": "f8ef716b",
   "metadata": {},
   "outputs": [],
   "source": [
    "cat_yoy = df_1.groupby(['publish_year','category_name'])['vid_id'].count()\n",
    "cat_yoy = cat_yoy.to_frame().reset_index()\n",
    "cat_yoy = cat_yoy.rename(columns={'vid_id':'number_of_videos'})"
   ]
  },
  {
   "cell_type": "markdown",
   "id": "efd4685b",
   "metadata": {},
   "source": [
    "Now, calculate total views per category per year:"
   ]
  },
  {
   "cell_type": "code",
   "execution_count": 21,
   "id": "fa03f87d",
   "metadata": {},
   "outputs": [],
   "source": [
    "cat_views_yoy = df_1.groupby(['publish_year','category_name'])['views'].sum()\n",
    "cat_views_yoy = cat_views_yoy.to_frame().reset_index()"
   ]
  },
  {
   "cell_type": "markdown",
   "id": "5a54360b",
   "metadata": {},
   "source": [
    "Finally, average views per video by category by year:"
   ]
  },
  {
   "cell_type": "code",
   "execution_count": 22,
   "id": "957964d1",
   "metadata": {},
   "outputs": [],
   "source": [
    "cat_views_yoy['avg_views_per_vid'] = cat_views_yoy['views']/cat_yoy['number_of_videos']\n",
    "cat_views_yoy = cat_views_yoy.sort_values(\n",
    "    ['publish_year', 'avg_views_per_vid'], ascending=[True, False]).groupby('publish_year').head(3)"
   ]
  },
  {
   "cell_type": "code",
   "execution_count": 23,
   "id": "4c57cd32",
   "metadata": {},
   "outputs": [
    {
     "data": {
      "image/png": "[encoded data removed]",
      "text/plain": [
       "<Figure size 1440x504 with 1 Axes>"
      ]
     },
     "metadata": {
      "needs_background": "light"
     },
     "output_type": "display_data"
    }
   ],
   "source": [
    "plt.figure(figsize =(20, 7))\n",
    "ax = sns.barplot(x='publish_year', y='avg_views_per_vid', data=cat_views_yoy, hue='category_name')\n",
    "ax.set(xlabel=None)\n",
    "ax.set_ylabel(\"Average Views per Video (Millions)\");\n",
    "ax.set_title(\"Graph 2. Top 3 popular categories year over year\");"
   ]
  },
  {
   "cell_type": "markdown",
   "id": "ec22b15a",
   "metadata": {},
   "source": [
    "It's interesting that in graph 1, `Pets & Animals` is in the Top 3 over the past 5 years, but graph 2 tells us a different story: <b><i>it doesn't appear in Top 3 for any of the 5 years</i></b>. That means we have a significant issue with the 2nd approach: the way we calculated <b>Average views per video</b> doesn't consider the low presentation of a category in a given year. For example, we have no record of `Pets & Animals` for 2018-2020 and 2022. The average views per video for this category was calculated based on only records for 2021. Thus, it's obvious that we can't conclude `Pets & Animals` a popular category over a 5-year period."
   ]
  },
  {
   "cell_type": "code",
   "execution_count": 24,
   "id": "655447c0",
   "metadata": {},
   "outputs": [
    {
     "data": {
      "text/html": [
       "<div>\n",
       "<style scoped>\n",
       "    .dataframe tbody tr th:only-of-type {\n",
       "        vertical-align: middle;\n",
       "    }\n",
       "\n",
       "    .dataframe tbody tr th {\n",
       "        vertical-align: top;\n",
       "    }\n",
       "\n",
       "    .dataframe thead th {\n",
       "        text-align: right;\n",
       "    }\n",
       "</style>\n",
       "<table border=\"1\" class=\"dataframe\">\n",
       "  <thead>\n",
       "    <tr style=\"text-align: right;\">\n",
       "      <th></th>\n",
       "      <th>publish_year</th>\n",
       "      <th>category_name</th>\n",
       "      <th>number_of_videos</th>\n",
       "    </tr>\n",
       "  </thead>\n",
       "  <tbody>\n",
       "    <tr>\n",
       "      <th>45</th>\n",
       "      <td>2021</td>\n",
       "      <td>Pets &amp; Animals</td>\n",
       "      <td>3</td>\n",
       "    </tr>\n",
       "  </tbody>\n",
       "</table>\n",
       "</div>"
      ],
      "text/plain": [
       "    publish_year   category_name  number_of_videos\n",
       "45          2021  Pets & Animals                 3"
      ]
     },
     "execution_count": 24,
     "metadata": {},
     "output_type": "execute_result"
    }
   ],
   "source": [
    "pet_records = cat_yoy[cat_yoy['category_name'] == 'Pets & Animals']\n",
    "pet_records"
   ]
  },
  {
   "cell_type": "markdown",
   "id": "65a2f7f0",
   "metadata": {},
   "source": [
    "##### Third Approach:"
   ]
  },
  {
   "cell_type": "markdown",
   "id": "6bd73e2a",
   "metadata": {},
   "source": [
    "To eliminate the above issue, we will calculate <b>Relative views per category</b> by taking into account the proportion of each category in the whole dataset. For example, if `Gaming` and `Music` had 100M views each but `Gaming` contributed 20% of the dataset while `Music` accounted for only 5%, the relavtive views of `Gaming` would be 100M * 20% = 20M views while that of `Music` would be only 5M views. And in this case, `Gaming` is more popular than `Music`."
   ]
  },
  {
   "cell_type": "markdown",
   "id": "04710f5e",
   "metadata": {},
   "source": [
    "Now, let's calculate the proportion of each category in our dataset:"
   ]
  },
  {
   "cell_type": "code",
   "execution_count": 25,
   "id": "4d72f99d",
   "metadata": {},
   "outputs": [],
   "source": [
    "ttl_vid = pop_cat_1.sum()\n",
    "weighted_cat = pop_cat_1/ttl_vid \n",
    "weighted_cat = weighted_cat.rename(columns={'number_of_videos':'weight'})"
   ]
  },
  {
   "cell_type": "markdown",
   "id": "a4530d26",
   "metadata": {},
   "source": [
    "Calculate relative views per category:"
   ]
  },
  {
   "cell_type": "code",
   "execution_count": 26,
   "id": "fe19e866",
   "metadata": {},
   "outputs": [],
   "source": [
    "weighted_cat['relative_views'] = weighted_cat['weight'] * views_by_cat['views']\n",
    "weighted_cat = weighted_cat.reset_index()\n",
    "weighted_cat = weighted_cat.sort_values('relative_views', ascending = False)"
   ]
  },
  {
   "cell_type": "code",
   "execution_count": 27,
   "id": "d977e689",
   "metadata": {},
   "outputs": [
    {
     "data": {
      "image/png": "[encoded data removed]",
      "text/plain": [
       "<Figure size 1440x504 with 1 Axes>"
      ]
     },
     "metadata": {
      "needs_background": "light"
     },
     "output_type": "display_data"
    }
   ],
   "source": [
    "plt.figure(figsize =(20, 7))\n",
    "plt.xticks(rotation=45)\n",
    "ax = sns.barplot(x='category_name', y='relative_views', data=weighted_cat)\n",
    "ax.set(xlabel=None)\n",
    "ax.set_ylabel(\"Relative Views (Millions)\");\n",
    "ax.set_title(\"Graph 3. Relative Views by Categories over 5 years\");"
   ]
  },
  {
   "cell_type": "markdown",
   "id": "f3a2fa10",
   "metadata": {},
   "source": [
    "Graph 3 tells us that the Top 5 over the last 5 years are:\n",
    "<ol>\n",
    "    <li>News & Politics</li>\n",
    "    <li>Music</li>\n",
    "    <li>Entertainment</li>\n",
    "    <li>Film & Animation</li>\n",
    "    <li>People & Blogs</li>\n",
    "</ol>"
   ]
  },
  {
   "cell_type": "markdown",
   "id": "d8ced2ff",
   "metadata": {},
   "source": [
    "`Gaming` has relative views quite close to `People & Blogs`. We can say they two are on and off the Top 5. "
   ]
  },
  {
   "cell_type": "markdown",
   "id": "252f1850",
   "metadata": {},
   "source": [
    "#### Question 2: Does the viewer's preference change before and during Covid (considering we are still in Covid time)?\n",
    "From question 1, we will look deeper into how relative views by categories change year over year. Let's calculate the proportion of each category in our dataset:"
   ]
  },
  {
   "cell_type": "code",
   "execution_count": 28,
   "id": "a006c891",
   "metadata": {},
   "outputs": [],
   "source": [
    "ttl_vid_yoy = cat_yoy.groupby('publish_year')['number_of_videos'].sum()\n",
    "ttl_vid_yoy = ttl_vid_yoy.to_frame().reset_index()"
   ]
  },
  {
   "cell_type": "code",
   "execution_count": 29,
   "id": "dc8dc294",
   "metadata": {},
   "outputs": [],
   "source": [
    "cat_yoy['weight'] = None\n",
    "for i in range(len(cat_yoy)):\n",
    "    cat_year = cat_yoy['publish_year'].iloc[i]\n",
    "    for index in range(len(ttl_vid_yoy)):\n",
    "        if cat_year == ttl_vid_yoy['publish_year'].iloc[index]:\n",
    "            cat_yoy['weight'].iloc[i] = cat_yoy['number_of_videos'].iloc[i]/ttl_vid_yoy['number_of_videos'].iloc[index]"
   ]
  },
  {
   "cell_type": "markdown",
   "id": "3fee4b89",
   "metadata": {},
   "source": [
    "Calculate relative views per category:"
   ]
  },
  {
   "cell_type": "code",
   "execution_count": 30,
   "id": "adbb7d9e",
   "metadata": {},
   "outputs": [
    {
     "data": {
      "text/html": [
       "<div>\n",
       "<style scoped>\n",
       "    .dataframe tbody tr th:only-of-type {\n",
       "        vertical-align: middle;\n",
       "    }\n",
       "\n",
       "    .dataframe tbody tr th {\n",
       "        vertical-align: top;\n",
       "    }\n",
       "\n",
       "    .dataframe thead th {\n",
       "        text-align: right;\n",
       "    }\n",
       "</style>\n",
       "<table border=\"1\" class=\"dataframe\">\n",
       "  <thead>\n",
       "    <tr style=\"text-align: right;\">\n",
       "      <th></th>\n",
       "      <th>publish_year</th>\n",
       "      <th>category_name</th>\n",
       "      <th>number_of_videos</th>\n",
       "      <th>weight</th>\n",
       "      <th>relative_views</th>\n",
       "    </tr>\n",
       "  </thead>\n",
       "  <tbody>\n",
       "    <tr>\n",
       "      <th>9</th>\n",
       "      <td>2018</td>\n",
       "      <td>Science &amp; Technology</td>\n",
       "      <td>1</td>\n",
       "      <td>0.00641</td>\n",
       "      <td>0.873556</td>\n",
       "    </tr>\n",
       "    <tr>\n",
       "      <th>1</th>\n",
       "      <td>2018</td>\n",
       "      <td>Education</td>\n",
       "      <td>3</td>\n",
       "      <td>0.019231</td>\n",
       "      <td>0.616267</td>\n",
       "    </tr>\n",
       "    <tr>\n",
       "      <th>8</th>\n",
       "      <td>2018</td>\n",
       "      <td>People &amp; Blogs</td>\n",
       "      <td>4</td>\n",
       "      <td>0.025641</td>\n",
       "      <td>0.575914</td>\n",
       "    </tr>\n",
       "    <tr>\n",
       "      <th>17</th>\n",
       "      <td>2019</td>\n",
       "      <td>News &amp; Politics</td>\n",
       "      <td>17</td>\n",
       "      <td>0.130769</td>\n",
       "      <td>112.154509</td>\n",
       "    </tr>\n",
       "    <tr>\n",
       "      <th>16</th>\n",
       "      <td>2019</td>\n",
       "      <td>Music</td>\n",
       "      <td>24</td>\n",
       "      <td>0.184615</td>\n",
       "      <td>17.320723</td>\n",
       "    </tr>\n",
       "    <tr>\n",
       "      <th>19</th>\n",
       "      <td>2019</td>\n",
       "      <td>People &amp; Blogs</td>\n",
       "      <td>4</td>\n",
       "      <td>0.030769</td>\n",
       "      <td>5.419694</td>\n",
       "    </tr>\n",
       "    <tr>\n",
       "      <th>30</th>\n",
       "      <td>2020</td>\n",
       "      <td>News &amp; Politics</td>\n",
       "      <td>9</td>\n",
       "      <td>0.09375</td>\n",
       "      <td>281.769613</td>\n",
       "    </tr>\n",
       "    <tr>\n",
       "      <th>29</th>\n",
       "      <td>2020</td>\n",
       "      <td>Music</td>\n",
       "      <td>10</td>\n",
       "      <td>0.104167</td>\n",
       "      <td>26.779784</td>\n",
       "    </tr>\n",
       "    <tr>\n",
       "      <th>25</th>\n",
       "      <td>2020</td>\n",
       "      <td>Entertainment</td>\n",
       "      <td>6</td>\n",
       "      <td>0.0625</td>\n",
       "      <td>1.28362</td>\n",
       "    </tr>\n",
       "    <tr>\n",
       "      <th>42</th>\n",
       "      <td>2021</td>\n",
       "      <td>News &amp; Politics</td>\n",
       "      <td>19</td>\n",
       "      <td>0.128378</td>\n",
       "      <td>379.635365</td>\n",
       "    </tr>\n",
       "    <tr>\n",
       "      <th>38</th>\n",
       "      <td>2021</td>\n",
       "      <td>Film &amp; Animation</td>\n",
       "      <td>4</td>\n",
       "      <td>0.027027</td>\n",
       "      <td>4.532983</td>\n",
       "    </tr>\n",
       "    <tr>\n",
       "      <th>46</th>\n",
       "      <td>2021</td>\n",
       "      <td>Science &amp; Technology</td>\n",
       "      <td>2</td>\n",
       "      <td>0.013514</td>\n",
       "      <td>1.315723</td>\n",
       "    </tr>\n",
       "    <tr>\n",
       "      <th>54</th>\n",
       "      <td>2022</td>\n",
       "      <td>Gaming</td>\n",
       "      <td>16</td>\n",
       "      <td>0.114286</td>\n",
       "      <td>0.45269</td>\n",
       "    </tr>\n",
       "    <tr>\n",
       "      <th>56</th>\n",
       "      <td>2022</td>\n",
       "      <td>Music</td>\n",
       "      <td>5</td>\n",
       "      <td>0.035714</td>\n",
       "      <td>0.053137</td>\n",
       "    </tr>\n",
       "    <tr>\n",
       "      <th>49</th>\n",
       "      <td>2022</td>\n",
       "      <td>Autos &amp; Vehicles</td>\n",
       "      <td>1</td>\n",
       "      <td>0.007143</td>\n",
       "      <td>0.001924</td>\n",
       "    </tr>\n",
       "  </tbody>\n",
       "</table>\n",
       "</div>"
      ],
      "text/plain": [
       "    publish_year         category_name  number_of_videos    weight  \\\n",
       "9           2018  Science & Technology                 1   0.00641   \n",
       "1           2018             Education                 3  0.019231   \n",
       "8           2018        People & Blogs                 4  0.025641   \n",
       "17          2019       News & Politics                17  0.130769   \n",
       "16          2019                 Music                24  0.184615   \n",
       "19          2019        People & Blogs                 4  0.030769   \n",
       "30          2020       News & Politics                 9   0.09375   \n",
       "29          2020                 Music                10  0.104167   \n",
       "25          2020         Entertainment                 6    0.0625   \n",
       "42          2021       News & Politics                19  0.128378   \n",
       "38          2021      Film & Animation                 4  0.027027   \n",
       "46          2021  Science & Technology                 2  0.013514   \n",
       "54          2022                Gaming                16  0.114286   \n",
       "56          2022                 Music                 5  0.035714   \n",
       "49          2022      Autos & Vehicles                 1  0.007143   \n",
       "\n",
       "   relative_views  \n",
       "9        0.873556  \n",
       "1        0.616267  \n",
       "8        0.575914  \n",
       "17     112.154509  \n",
       "16      17.320723  \n",
       "19       5.419694  \n",
       "30     281.769613  \n",
       "29      26.779784  \n",
       "25        1.28362  \n",
       "42     379.635365  \n",
       "38       4.532983  \n",
       "46       1.315723  \n",
       "54        0.45269  \n",
       "56       0.053137  \n",
       "49       0.001924  "
      ]
     },
     "execution_count": 30,
     "metadata": {},
     "output_type": "execute_result"
    }
   ],
   "source": [
    "cat_yoy['relative_views'] = cat_yoy['weight'] * cat_views_yoy['views']\n",
    "cat_yoy = cat_yoy.sort_values(['publish_year', 'relative_views'], ascending=[True, False]).groupby('publish_year').head(3)\n",
    "cat_yoy"
   ]
  },
  {
   "cell_type": "code",
   "execution_count": 31,
   "id": "70b75b5f",
   "metadata": {},
   "outputs": [
    {
     "data": {
      "image/png": "[encoded data removed]",
      "text/plain": [
       "<Figure size 1440x504 with 1 Axes>"
      ]
     },
     "metadata": {
      "needs_background": "light"
     },
     "output_type": "display_data"
    }
   ],
   "source": [
    "plt.figure(figsize =(20, 7))\n",
    "ax = sns.barplot(x='publish_year', y='relative_views', data=cat_yoy, hue='category_name')\n",
    "ax.set(xlabel=None)\n",
    "ax.set_ylabel(\"Relative Views (Millions)\");\n",
    "ax.set_title(\"Graph 4. Top 3 popular categories year over year\");"
   ]
  },
  {
   "cell_type": "markdown",
   "id": "457468d1",
   "metadata": {},
   "source": [
    "From graph 4 and `cat_yoy` table, we can see that:\n",
    "<ul>\n",
    "    <li><b><i>News & Politics</i></b> became more prevalent during Covid</li> \n",
    "    <li><b><i>Music</i></b> usually stays in the Top 3</li> \n",
    "    <li><b><i>People & Blogs</i></b> was in the Top 3 before Covid only</li> \n",
    "    <li>The relative number of views in 2022 is significantly lower than the previous years. It may be because of the rise of other media platforms after the Covid hit. People gradually got used to the different platforms and relied less on Youtube, especially when Youtube pushed more ads to free users.</li>"
   ]
  },
  {
   "cell_type": "markdown",
   "id": "d140835c",
   "metadata": {},
   "source": [
    "#### Question 3: What is viewer's preference for video's length?\n",
    "To answer it, we will analyze videos that have a significant number of views, say, at least 1M views. Remember that there are live videos which have 0 duration and we need to exclude them from our calculation. Let's calculate the average duration per video:"
   ]
  },
  {
   "cell_type": "code",
   "execution_count": 32,
   "id": "f5a93738",
   "metadata": {},
   "outputs": [],
   "source": [
    "df_1M = df_1[(df_1['views'] >= 1) & (df_1['live_status'] == 'No')]\n",
    "vid_1M_dur = round(df_1M.groupby('category_name')['duration'].mean()/60, 1) #convert duration from seconds to minutes\n",
    "vid_1M_dur = vid_1M_dur.to_frame().reset_index().sort_values('duration')"
   ]
  },
  {
   "cell_type": "markdown",
   "id": "6fd84730",
   "metadata": {},
   "source": [
    "We can classify short videos are one less than 10-min duration, medium videos are from 10-min to 15-min duration, and long videos are over 15 mins:"
   ]
  },
  {
   "cell_type": "code",
   "execution_count": 33,
   "id": "3aa292ab",
   "metadata": {},
   "outputs": [],
   "source": [
    "vid_1M_dur['length'] = None\n",
    "for i in range(len(vid_1M_dur)):\n",
    "    if vid_1M_dur['duration'].iloc[i] < 10:\n",
    "        vid_1M_dur['length'].iloc[i] = 'short'\n",
    "    elif 10 <= vid_1M_dur['duration'].iloc[i] <= 15:\n",
    "        vid_1M_dur['length'].iloc[i] = 'medium'\n",
    "    else:\n",
    "        vid_1M_dur['length'].iloc[i] = 'long'"
   ]
  },
  {
   "cell_type": "code",
   "execution_count": 34,
   "id": "ba90adb7",
   "metadata": {},
   "outputs": [
    {
     "data": {
      "image/png": "[encoded data removed]",
      "text/plain": [
       "<Figure size 1440x504 with 1 Axes>"
      ]
     },
     "metadata": {
      "needs_background": "light"
     },
     "output_type": "display_data"
    }
   ],
   "source": [
    "plt.figure(figsize =(20, 7))\n",
    "plt.xticks(rotation=45)\n",
    "ax = sns.barplot(x='category_name', y='duration', data=vid_1M_dur, hue='length', dodge = False)\n",
    "ax.set(xlabel=None)\n",
    "ax.set_ylabel(\"Average Video Length (Mins)\");\n",
    "ax.set_title(\"Graph 5. Video Length by Categories\");"
   ]
  },
  {
   "cell_type": "markdown",
   "id": "c2d9de85",
   "metadata": {},
   "source": [
    "From graph 5, we can see that viewers have different preference for video's length, depending on the type/category of the video."
   ]
  },
  {
   "cell_type": "markdown",
   "id": "31d1a4ab",
   "metadata": {},
   "source": [
    "#### Question 4: What are the best days in month to publish a video?"
   ]
  },
  {
   "cell_type": "code",
   "execution_count": 35,
   "id": "a7324bbd",
   "metadata": {},
   "outputs": [
    {
     "data": {
      "image/png": "[encoded data removed]",
      "text/plain": [
       "<Figure size 1440x504 with 1 Axes>"
      ]
     },
     "metadata": {
      "needs_background": "light"
     },
     "output_type": "display_data"
    }
   ],
   "source": [
    "plt.figure(figsize =(20, 7))\n",
    "ax = sns.barplot(x='publish_day', y='views', data=df_1, ci = None)\n",
    "ax.set(xlabel=None)\n",
    "ax.set_ylabel(\"Average Views (Millions)\");\n",
    "ax.set_title(\"Graph 6. Views per video by Release Day\");"
   ]
  },
  {
   "cell_type": "markdown",
   "id": "bba13dfa",
   "metadata": {},
   "source": [
    "Graph 6 tells us that videos published on day <b>1st</b>, <b>2nd</b>, and <b>8th</b> of a month received the most views."
   ]
  },
  {
   "cell_type": "code",
   "execution_count": 36,
   "id": "540c94d9",
   "metadata": {},
   "outputs": [
    {
     "data": {
      "image/png": "[encoded data removed]",
      "text/plain": [
       "<Figure size 1440x504 with 1 Axes>"
      ]
     },
     "metadata": {
      "needs_background": "light"
     },
     "output_type": "display_data"
    }
   ],
   "source": [
    "plt.figure(figsize =(20, 7))\n",
    "ax = sns.histplot(data=df_1, x='publish_day', binwidth=1, kde=True)\n",
    "ax.set(xlabel=None)\n",
    "ax.set_ylabel(\"Number of videos released\");\n",
    "ax.set_title(\"Graph 7. Number of videos by Release Day\");"
   ]
  },
  {
   "cell_type": "markdown",
   "id": "792149da",
   "metadata": {},
   "source": [
    "Graph 7 tells an interesting story: <b><i>most videos were published around day 15th of a month</i></b>, but top-watched videos were on published ealier in the month."
   ]
  },
  {
   "cell_type": "markdown",
   "id": "6d09a96c",
   "metadata": {},
   "source": [
    "#### Question 5: Is there a linear relationship between number of views and likes/comments?"
   ]
  },
  {
   "cell_type": "markdown",
   "id": "542e2562",
   "metadata": {},
   "source": [
    "In our dataset, some videos have the like and/or comment function disabled yet have high view volume. For those videos, clearly, there is no linear relationship between views and likes/comments."
   ]
  },
  {
   "cell_type": "markdown",
   "id": "24eb18ef",
   "metadata": {},
   "source": [
    "Let's examine videos which allow viewers to like and/or comment. \n",
    "##### First, let's work with videos having like function enabled."
   ]
  },
  {
   "cell_type": "code",
   "execution_count": 37,
   "id": "1008f061",
   "metadata": {},
   "outputs": [],
   "source": [
    "df_like = df_1[df_1['likes'] != 'Disabled']"
   ]
  },
  {
   "cell_type": "markdown",
   "id": "e13ff097",
   "metadata": {},
   "source": [
    "Now, run linear regression on this data set:"
   ]
  },
  {
   "cell_type": "code",
   "execution_count": 38,
   "id": "3ed6e501",
   "metadata": {},
   "outputs": [
    {
     "name": "stdout",
     "output_type": "stream",
     "text": [
      "The model is Views = 0.000328 * (likes) + -0.566\n",
      "R^2 is 0.414\n"
     ]
    }
   ],
   "source": [
    "predictors = ['likes']\n",
    "X = np.array(df_like[predictors])\n",
    "y = np.array(df_like['views'])\n",
    "model = LinearRegression().fit(X, y)\n",
    "\n",
    "print(f'The model is Views = {model.coef_[0]:.3} * (likes) + {model.intercept_:.3}')\n",
    "print(f'R^2 is {model.score(X, y):.3}')"
   ]
  },
  {
   "cell_type": "markdown",
   "id": "28ca10f5",
   "metadata": {},
   "source": [
    "There is a <b><i>weak linear relationship between the number of likes and views</i></b>, as this model can explain only about 40% of observations. In reality, a video with many dislikes can also receive high views. Therefore, I'm skeptical about the relationship between the number of views and dislikes. But, since Youtube doesn't give the number of dislikes, I can't verify my hypothesis. "
   ]
  },
  {
   "cell_type": "markdown",
   "id": "5fc477ec",
   "metadata": {},
   "source": [
    "##### Second, let's work with videos having comment function enabled."
   ]
  },
  {
   "cell_type": "code",
   "execution_count": 39,
   "id": "8ac27aa7",
   "metadata": {},
   "outputs": [],
   "source": [
    "df_cmt = df_1[df_1['comments'] != 'Disabled']"
   ]
  },
  {
   "cell_type": "markdown",
   "id": "9f60d199",
   "metadata": {},
   "source": [
    "Now, run linear regression on this data set:"
   ]
  },
  {
   "cell_type": "code",
   "execution_count": 40,
   "id": "0d55dfbe",
   "metadata": {},
   "outputs": [
    {
     "name": "stdout",
     "output_type": "stream",
     "text": [
      "The model is Views = 0.00109 * (comments) + 10.7\n",
      "R^2 is 0.000412\n"
     ]
    }
   ],
   "source": [
    "predictors = ['comments']\n",
    "X = np.array(df_cmt[predictors])\n",
    "y = np.array(df_cmt['views'])\n",
    "model = LinearRegression().fit(X, y)\n",
    "\n",
    "print(f'The model is Views = {model.coef_[0]:.3} * (comments) + {model.intercept_:.3}')\n",
    "print(f'R^2 is {model.score(X, y):.3}')"
   ]
  },
  {
   "cell_type": "markdown",
   "id": "43fa4bd5",
   "metadata": {},
   "source": [
    "This model tells us that <b><i>comments and views don't have a linear relationship</i></b>, as this model can't explain even only 1% of our records."
   ]
  }
 ],
 "metadata": {
  "kernelspec": {
   "display_name": "Python 3 (ipykernel)",
   "language": "python",
   "name": "python3"
  },
  "language_info": {
   "codemirror_mode": {
    "name": "ipython",
    "version": 3
   },
   "file_extension": ".py",
   "mimetype": "text/x-python",
   "name": "python",
   "nbconvert_exporter": "python",
   "pygments_lexer": "ipython3",
   "version": "3.9.12"
  }
 },
 "nbformat": 4,
 "nbformat_minor": 5
}
